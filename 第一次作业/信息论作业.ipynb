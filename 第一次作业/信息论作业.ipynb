{
 "cells": [
  {
   "cell_type": "code",
   "execution_count": 5,
   "metadata": {},
   "outputs": [
    {
     "name": "stdout",
     "output_type": "stream",
     "text": [
      "H(X) = -\\sum_{X}^{} \\sum_{Y}^{} p (x_{i} y_{j} )log_{2} p(x_{i} ) = 1.0585075732372948\n",
      "H(Y) = -\\sum_{X}^{} \\sum_{Y}^{} p (x_{i} y_{j} )log_{2} p(y_{j} ) = 1.2130075659799042\n",
      "H(XY) = -\\sum_{X}^{} \\sum_{Y}^{} p (x_{i} y_{j} )log_{2} p(x_{i} y_{j} ) = 2.057357222494264\n",
      "H(X|Y) = -\\sum_{X}^{} \\sum_{Y}^{} p (x_{i} y_{j} )log_{2} \\frac{p(x_{i} y_{j} )}{p(y_{j}) }  = 0.8443496565143598\n",
      "H(Y|X) = -\\sum_{X}^{} \\sum_{Y}^{} p (x_{i} y_{j} )log_{2} \\frac{p(x_{i} y_{j} )}{p(x_{i}) }  = 0.9988496492569692\n",
      "I(X; Y)=H(X)+H(Y)-H(XY) = 0.21415791672293505\n"
     ]
    }
   ],
   "source": [
    "import pandas as pd\n",
    "import numpy as np\n",
    "from scipy.stats import entropy\n",
    "\n",
    "def calculate_entropy(probabilities):\n",
    "    \"\"\"计算熵\"\"\"\n",
    "    return entropy(probabilities)\n",
    "\n",
    "def calculate_joint_entropy(joint_probabilities):\n",
    "    \"\"\"计算联合熵\"\"\"\n",
    "    return calculate_entropy(joint_probabilities)\n",
    "\n",
    "def calculate_conditional_entropy(H_joint, H_cond):\n",
    "    \"\"\"计算条件熵 H(X|Y) 或 H(Y|X)\"\"\"\n",
    "    return H_joint - H_cond\n",
    "\n",
    "def calculate_mutual_information(H_X, H_Y, H_XY):\n",
    "    \"\"\"计算互信息 I(X; Y)\"\"\"\n",
    "    return H_X + H_Y - H_XY\n",
    "\n",
    "def main(file_path):\n",
    "    # 读取Excel文件\n",
    "    df = pd.read_excel(file_path, header=None)\n",
    "    joint_probabilities = df.values.flatten()   # 获取联合概率分布\n",
    "    joint_probabilities /= joint_probabilities.sum()  # 归一化\n",
    "\n",
    "    # 计算H(X, Y)\n",
    "    H_XY = calculate_joint_entropy(joint_probabilities)\n",
    "\n",
    "    # 计算边际概率分布\n",
    "    p_X = joint_probabilities.reshape(3, 4).sum(axis=1)  # 对每一行求和\n",
    "    p_Y = joint_probabilities.reshape(3, 4).sum(axis=0)  # 对每一列求和\n",
    "\n",
    "    # 计算H(X)和H(Y)\n",
    "    H_X = calculate_entropy(p_X)\n",
    "    H_Y = calculate_entropy(p_Y)\n",
    "    \n",
    "    # 计算条件熵 H(X|Y) 和 H(Y|X)\n",
    "    H_X_given_Y = calculate_conditional_entropy(H_XY, H_Y)\n",
    "    H_Y_given_X = calculate_conditional_entropy(H_XY, H_X)\n",
    "    \n",
    "    # 计算互信息 I(X; Y)\n",
    "    I_XY = calculate_mutual_information(H_X, H_Y, H_XY)\n",
    "    \n",
    "    # 打印结果\n",
    "    print(\"H(X) = -\\\\sum_{X}^{} \\\\sum_{Y}^{} p (x_{i} y_{j} )log_{2} p(x_{i} ) = \"f\"{H_X}\")\n",
    "    print(\"H(Y) = -\\\\sum_{X}^{} \\\\sum_{Y}^{} p (x_{i} y_{j} )log_{2} p(y_{j} ) = \"f\"{H_Y}\")\n",
    "    print(\"H(XY) = -\\\\sum_{X}^{} \\\\sum_{Y}^{} p (x_{i} y_{j} )log_{2} p(x_{i} y_{j} ) = \"f\"{H_XY}\")\n",
    "    print(\"H(X|Y) = -\\\\sum_{X}^{} \\\\sum_{Y}^{} p (x_{i} y_{j} )log_{2} \\\\frac{p(x_{i} y_{j} )}{p(y_{j}) }  =\"f\" {H_X_given_Y}\")\n",
    "    print(\"H(Y|X) = -\\\\sum_{X}^{} \\\\sum_{Y}^{} p (x_{i} y_{j} )log_{2} \\\\frac{p(x_{i} y_{j} )}{p(x_{i}) }  =\"f\" {H_Y_given_X}\")\n",
    "    print(f\"I(X; Y)=H(X)+H(Y)-H(XY) = {I_XY}\")\n",
    "\n",
    "# 示例用法\n",
    "# main('路径到你的excel文件.xlsx')\n",
    "main(r'C:\\Users\\hp\\Desktop\\code\\第一次作业\\data2.xls')"
   ]
  }
 ],
 "metadata": {
  "kernelspec": {
   "display_name": "Python 3",
   "language": "python",
   "name": "python3"
  },
  "language_info": {
   "codemirror_mode": {
    "name": "ipython",
    "version": 3
   },
   "file_extension": ".py",
   "mimetype": "text/x-python",
   "name": "python",
   "nbconvert_exporter": "python",
   "pygments_lexer": "ipython3",
   "version": "3.12.3"
  }
 },
 "nbformat": 4,
 "nbformat_minor": 2
}
